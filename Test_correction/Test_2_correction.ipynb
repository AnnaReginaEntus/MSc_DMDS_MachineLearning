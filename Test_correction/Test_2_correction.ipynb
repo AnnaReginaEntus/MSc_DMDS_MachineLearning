{
 "cells": [
  {
   "cell_type": "markdown",
   "metadata": {},
   "source": [
    "# Correction of test number 2\n",
    "\n",
    "In this file we are giving a correction of the 3 questions where you had to compute values.\n",
    "\n",
    "## First 2 questions (alpha and beta)\n",
    "\n",
    "Compute the coefficient value of the model obtained with linear regression from the data given below (rounded with two decimal places)\n",
    "\n",
    "$\\hat{\\alpha}$ and $\\hat{\\beta}$\n",
    "\n",
    "`Independent=array([0.03942231, 0.04670639, 0.05436321, 0.10944665, 0.11174128,\n",
    "       0.14155526, 0.16724303, 0.17889592, 0.20023081, 0.21055058,\n",
    "       0.24989901, 0.26414685, 0.27540093, 0.30447436, 0.30591892,\n",
    "       0.36153845, 0.37278698, 0.46509316, 0.47347444, 0.50971531,\n",
    "       0.53000022, 0.53834876, 0.71777369, 0.76051027, 0.80707948,\n",
    "       0.8488177 , 0.86571503, 0.9176299 , 0.94503842, 0.9985434 ])`\n",
    "       \n",
    "`Dependent=array([3.49546546, 2.42485016, 2.80535434, 4.35202332, 4.39829814,\n",
    "       4.43063511, 2.99667581, 3.20641551, 3.32757123, 3.25264432,\n",
    "       4.39226518, 4.09859348, 4.39440263, 4.28182468, 4.13691901,\n",
    "       5.81104196, 5.13936612, 4.7586655 , 5.90342214, 5.12703905,\n",
    "       5.41684079, 6.29946676, 6.01615845, 6.47675405, 6.65964707,\n",
    "       7.86855719, 8.06973224, 7.4266527 , 8.38892738, 7.00091542])`\n",
    "       \n",
    "### first solution with scikit-learn"
   ]
  },
  {
   "cell_type": "code",
   "execution_count": 1,
   "metadata": {},
   "outputs": [
    {
     "name": "stdout",
     "output_type": "stream",
     "text": [
      "Estimated equation is: ( 5.09 ) X + ( 2.91 )\n"
     ]
    }
   ],
   "source": [
    "from sklearn.linear_model import LinearRegression\n",
    "import numpy as np\n",
    "\n",
    "Independent=np.array([0.03942231, 0.04670639, 0.05436321, 0.10944665, 0.11174128,\n",
    "       0.14155526, 0.16724303, 0.17889592, 0.20023081, 0.21055058,\n",
    "       0.24989901, 0.26414685, 0.27540093, 0.30447436, 0.30591892,\n",
    "       0.36153845, 0.37278698, 0.46509316, 0.47347444, 0.50971531,\n",
    "       0.53000022, 0.53834876, 0.71777369, 0.76051027, 0.80707948,\n",
    "       0.8488177 , 0.86571503, 0.9176299 , 0.94503842, 0.9985434 ])\n",
    "Dependent=np.array([3.49546546, 2.42485016, 2.80535434, 4.35202332, 4.39829814,\n",
    "       4.43063511, 2.99667581, 3.20641551, 3.32757123, 3.25264432,\n",
    "       4.39226518, 4.09859348, 4.39440263, 4.28182468, 4.13691901,\n",
    "       5.81104196, 5.13936612, 4.7586655 , 5.90342214, 5.12703905,\n",
    "       5.41684079, 6.29946676, 6.01615845, 6.47675405, 6.65964707,\n",
    "       7.86855719, 8.06973224, 7.4266527 , 8.38892738, 7.00091542])\n",
    "X_train=np.array(Independent).reshape(-1,1)\n",
    "y_train=np.array(Dependent).reshape(-1,1)\n",
    "\n",
    "regr = LinearRegression().fit(X_train, y_train)\n",
    "\n",
    "# The estimated equation coefficients\n",
    "print('Estimated equation is: (',round(regr.coef_[0,0],2),') X + (',round(regr.intercept_[0],2),')')"
   ]
  },
  {
   "cell_type": "markdown",
   "metadata": {},
   "source": [
    "### second solution with the formulas"
   ]
  },
  {
   "cell_type": "code",
   "execution_count": 2,
   "metadata": {},
   "outputs": [
    {
     "data": {
      "text/plain": [
       "5.09"
      ]
     },
     "execution_count": 2,
     "metadata": {},
     "output_type": "execute_result"
    }
   ],
   "source": [
    "from numpy import mean\n",
    "def listElementwiseMult(lista,listb):\n",
    "    return [a*b for a,b in zip(lista,listb)]\n",
    "\n",
    "#alpha computation\n",
    "SumXy=sum(listElementwiseMult(Independent,Dependent))\n",
    "SumXsquared=sum(listElementwiseMult(Independent,Independent))\n",
    "meanX=mean(Independent)\n",
    "meany=mean(Dependent)\n",
    "n=len(Independent)\n",
    "alpha=(SumXy-n*meanX*meany)/(SumXsquared-n*pow(meanX,2))\n",
    "\n",
    "#Check result here\n",
    "round(alpha,2)"
   ]
  },
  {
   "cell_type": "code",
   "execution_count": 3,
   "metadata": {},
   "outputs": [
    {
     "data": {
      "text/plain": [
       "2.91"
      ]
     },
     "execution_count": 3,
     "metadata": {},
     "output_type": "execute_result"
    }
   ],
   "source": [
    "#beta computation\n",
    "\n",
    "beta=meany-alpha*meanX\n",
    "\n",
    "#Check result here\n",
    "round(beta,2)"
   ]
  },
  {
   "cell_type": "markdown",
   "metadata": {},
   "source": [
    "## House price exercise\n",
    "\n",
    "Here is a list of corresponding price of houses with their surface in a small village in Provence.\n",
    "\n",
    "`Surface = array([ 83., 89., 109., 137., 138., 138., 149., 150., 179., 218., 248., 257., 299., 304., 412., 428., 480., 498., 514., 518., 532., 549.])`\n",
    "\n",
    "`Price = array([ 420363., 82405., 598877., 597865., 767586., 793657., 646299., 657260., 802509., 525793., 797099., 1227605., 823008., 693316., 989444., 1303019., 1641875., 1426520., 1513572., 1895920., 1727761., 1817991.])`\n",
    "\n",
    "Please answer the following questions (round all of your results to an entire value if nothing else is asked):\n",
    "\n",
    "- What is the price of a 250 m^2 house ?\n",
    "- You have 500 000 €. What house surface can you expect to buy ?\n",
    "- You get a new set of values for houses of the same village. Can you verify how accurate your model is by computing a coefficient of determination ? (round to 3 decimal places)\n",
    "\n",
    "`Surface = array([140., 156., 278., 337., 471.])`\n",
    "\n",
    "`Price = array([ 443363., 590079., 850057., 1039178., 1500596.])`"
   ]
  },
  {
   "cell_type": "code",
   "execution_count": 4,
   "metadata": {},
   "outputs": [
    {
     "name": "stdout",
     "output_type": "stream",
     "text": [
      "Estimated equation is: ( 2750.0 ) X + ( 185089.0 )\n"
     ]
    }
   ],
   "source": [
    "Surface = np.array([ 83., 89., 109., 137., 138., 138., 149., 150., 179., 218., 248., 257., 299., 304., 412., 428., 480., 498., 514., 518., 532., 549.])\n",
    "Price = np.array([ 420363., 82405., 598877., 597865., 767586., 793657., 646299., 657260., 802509., 525793., 797099., 1227605., 823008., 693316., 989444., 1303019., 1641875., 1426520., 1513572., 1895920., 1727761., 1817991.])\n",
    "\n",
    "X_train=np.array(Surface).reshape(-1,1)\n",
    "y_train=np.array(Price).reshape(-1,1)\n",
    "\n",
    "regr = LinearRegression().fit(X_train, y_train)\n",
    "\n",
    "# The estimated equation coefficients (note that this was not asked)\n",
    "print('Estimated equation is: (',round(regr.coef_[0,0],0),') X + (',round(regr.intercept_[0],0),')')"
   ]
  },
  {
   "cell_type": "code",
   "execution_count": 5,
   "metadata": {},
   "outputs": [
    {
     "data": {
      "text/plain": [
       "<matplotlib.legend.Legend at 0x1afdc960648>"
      ]
     },
     "execution_count": 5,
     "metadata": {},
     "output_type": "execute_result"
    },
    {
     "data": {
      "image/png": "[encoded data removed]",
      "text/plain": [
       "<Figure size 432x288 with 1 Axes>"
      ]
     },
     "metadata": {
      "needs_background": "light"
     },
     "output_type": "display_data"
    }
   ],
   "source": [
    "import matplotlib.pyplot as plt\n",
    "\n",
    "plt.scatter(Surface, Price, edgecolor='b', s=20, label=\"Samples\")\n",
    "plt.xlabel(\"Surface (m^2)\")\n",
    "plt.ylabel(\"Price (€)\")\n",
    "plt.legend()"
   ]
  },
  {
   "cell_type": "markdown",
   "metadata": {},
   "source": [
    "The price of a 250 $m^2$ house:"
   ]
  },
  {
   "cell_type": "code",
   "execution_count": 6,
   "metadata": {},
   "outputs": [
    {
     "data": {
      "text/plain": [
       "872513.0"
      ]
     },
     "execution_count": 6,
     "metadata": {},
     "output_type": "execute_result"
    }
   ],
   "source": [
    "regr.predict(np.array([250]).reshape(-1, 1)).round(0)[0][0]"
   ]
  },
  {
   "cell_type": "markdown",
   "metadata": {},
   "source": [
    "The surface to be expected to buy with 500 000 € (hardest question):\n",
    "\n",
    "$\\textrm{Price} = \\hat{\\alpha} \\, \\textrm{Surface} + \\hat{\\beta}$\n",
    "\n",
    "$\\textrm{Surface} =  \\frac{\\textrm{Price}- \\hat{\\beta}}{\\hat{\\alpha}}$"
   ]
  },
  {
   "cell_type": "code",
   "execution_count": 7,
   "metadata": {
    "scrolled": true
   },
   "outputs": [
    {
     "data": {
      "text/plain": [
       "115.0"
      ]
     },
     "execution_count": 7,
     "metadata": {},
     "output_type": "execute_result"
    }
   ],
   "source": [
    "y_money=500000\n",
    "round((y_money-round(regr.intercept_[0],0))/round(regr.coef_[0,0],0),0)"
   ]
  },
  {
   "cell_type": "markdown",
   "metadata": {},
   "source": [
    "Coefficient of determination computation $\\left(R^2\\right)$"
   ]
  },
  {
   "cell_type": "code",
   "execution_count": 8,
   "metadata": {},
   "outputs": [],
   "source": [
    "X_test = np.array([140., 156., 278., 337., 471.])\n",
    "y_test = np.array([ 443363., 590079., 850057., 1039178., 1500596.])"
   ]
  },
  {
   "cell_type": "code",
   "execution_count": 9,
   "metadata": {},
   "outputs": [],
   "source": [
    "X_test = X_test.reshape(-1,1)\n",
    "y_test=y_test.round(0).reshape(-1,1)"
   ]
  },
  {
   "cell_type": "code",
   "execution_count": 10,
   "metadata": {},
   "outputs": [
    {
     "name": "stdout",
     "output_type": "stream",
     "text": [
      "Coefficient of determination: 0.953\n"
     ]
    }
   ],
   "source": [
    "from sklearn.metrics import mean_squared_error, r2_score\n",
    "y_pred = regr.predict(X_test)\n",
    "\n",
    "# The coefficient of determination: 1 is perfect prediction\n",
    "print('Coefficient of determination: %.3f'\n",
    "      % r2_score(y_test, y_pred))"
   ]
  },
  {
   "cell_type": "code",
   "execution_count": null,
   "metadata": {},
   "outputs": [],
   "source": []
  }
 ],
 "metadata": {
  "kernelspec": {
   "display_name": "Python 3",
   "language": "python",
   "name": "python3"
  },
  "language_info": {
   "codemirror_mode": {
    "name": "ipython",
    "version": 3
   },
   "file_extension": ".py",
   "mimetype": "text/x-python",
   "name": "python",
   "nbconvert_exporter": "python",
   "pygments_lexer": "ipython3",
   "version": "3.7.6"
  }
 },
 "nbformat": 4,
 "nbformat_minor": 4
}
