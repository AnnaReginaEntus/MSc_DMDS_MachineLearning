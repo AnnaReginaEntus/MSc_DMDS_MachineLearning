{
 "cells": [
  {
   "cell_type": "markdown",
   "metadata": {},
   "source": [
    "# Multiple Linear Regression\n",
    "\n",
    "## First exercise with Cardekho database\n",
    "\n",
    "This exercise is made to show how to use multiple linear regression with scikit-learn. The `LinearRegression` object is actually sufficient to make this kind of survey.\n",
    "All you will have to learn is how to pass data to `LinearRegression` so that it will fit the model and how to understand/analyse the result of your machine learning study.\n",
    "The dataset from Cardekho is reused to find out a relationship between two independent variables and one dependant variable.\n",
    "\n",
    "As a reminder columns of that dataset are:\n",
    "- *Car_Name* The Name of the car\n",
    "- *Year* The release year of that car (Year it was bought for the first time)\n",
    "- *Selling_Price* The price it is sold\n",
    "- *Km_driven* The kms driven with the car\n",
    "- *Fuel* The type of fuel: Diesel, Petrol, Liquefied Petroleum Gas (LPG) or Compressed Natural Gas (CNG)\n",
    "- *Seller_type* The type of seller that proposes the car: individual, car dealer or trustmark dealer\n",
    "- *Transmission* Manual or Automatic\n",
    "- *Owner* Number of previous owner\n",
    "- *mileage* Consumption in km per l\n",
    "- *engine* Dimension of the engine\n",
    "- *max_power* Maximum power\n",
    "- *Torque* Torque of the car\n",
    "- *Seats* Number of seats\n",
    "\n",
    "The relationship researched is between the couple (Year,Km_driven) and Selling_price. Use `LinearRegression` from sklearn to perform the analysis."
   ]
  },
  {
   "cell_type": "code",
   "execution_count": 62,
   "metadata": {
    "scrolled": true
   },
   "outputs": [
    {
     "data": {
      "text/html": [
       "<div>\n",
       "<style scoped>\n",
       "    .dataframe tbody tr th:only-of-type {\n",
       "        vertical-align: middle;\n",
       "    }\n",
       "\n",
       "    .dataframe tbody tr th {\n",
       "        vertical-align: top;\n",
       "    }\n",
       "\n",
       "    .dataframe thead th {\n",
       "        text-align: right;\n",
       "    }\n",
       "</style>\n",
       "<table border=\"1\" class=\"dataframe\">\n",
       "  <thead>\n",
       "    <tr style=\"text-align: right;\">\n",
       "      <th></th>\n",
       "      <th>Car_Name</th>\n",
       "      <th>Year</th>\n",
       "      <th>Selling_price</th>\n",
       "      <th>Km_driven</th>\n",
       "      <th>Fuel</th>\n",
       "      <th>Seller_type</th>\n",
       "      <th>Transmission</th>\n",
       "      <th>Owner</th>\n",
       "      <th>mileage</th>\n",
       "      <th>engine</th>\n",
       "      <th>max_power</th>\n",
       "      <th>torque</th>\n",
       "      <th>seats</th>\n",
       "    </tr>\n",
       "  </thead>\n",
       "  <tbody>\n",
       "    <tr>\n",
       "      <th>0</th>\n",
       "      <td>Maruti Swift Dzire VDI</td>\n",
       "      <td>2014</td>\n",
       "      <td>5850.0</td>\n",
       "      <td>145500</td>\n",
       "      <td>Diesel</td>\n",
       "      <td>Individual</td>\n",
       "      <td>Manual</td>\n",
       "      <td>First Owner</td>\n",
       "      <td>23.4 kmpl</td>\n",
       "      <td>1248 CC</td>\n",
       "      <td>74 bhp</td>\n",
       "      <td>190Nm@ 2000rpm</td>\n",
       "      <td>5.0</td>\n",
       "    </tr>\n",
       "    <tr>\n",
       "      <th>1</th>\n",
       "      <td>Skoda Rapid 1.5 TDI Ambition</td>\n",
       "      <td>2014</td>\n",
       "      <td>4810.0</td>\n",
       "      <td>120000</td>\n",
       "      <td>Diesel</td>\n",
       "      <td>Individual</td>\n",
       "      <td>Manual</td>\n",
       "      <td>Second Owner</td>\n",
       "      <td>21.14 kmpl</td>\n",
       "      <td>1498 CC</td>\n",
       "      <td>103.52 bhp</td>\n",
       "      <td>250Nm@ 1500-2500rpm</td>\n",
       "      <td>5.0</td>\n",
       "    </tr>\n",
       "    <tr>\n",
       "      <th>2</th>\n",
       "      <td>Honda City 2017-2020 EXi</td>\n",
       "      <td>2006</td>\n",
       "      <td>2054.0</td>\n",
       "      <td>140000</td>\n",
       "      <td>Petrol</td>\n",
       "      <td>Individual</td>\n",
       "      <td>Manual</td>\n",
       "      <td>Third Owner</td>\n",
       "      <td>17.7 kmpl</td>\n",
       "      <td>1497 CC</td>\n",
       "      <td>78 bhp</td>\n",
       "      <td>12.7@ 2,700(kgm@ rpm)</td>\n",
       "      <td>5.0</td>\n",
       "    </tr>\n",
       "    <tr>\n",
       "      <th>3</th>\n",
       "      <td>Hyundai i20 Sportz Diesel</td>\n",
       "      <td>2010</td>\n",
       "      <td>2925.0</td>\n",
       "      <td>127000</td>\n",
       "      <td>Diesel</td>\n",
       "      <td>Individual</td>\n",
       "      <td>Manual</td>\n",
       "      <td>First Owner</td>\n",
       "      <td>23.0 kmpl</td>\n",
       "      <td>1396 CC</td>\n",
       "      <td>90 bhp</td>\n",
       "      <td>22.4 kgm at 1750-2750rpm</td>\n",
       "      <td>5.0</td>\n",
       "    </tr>\n",
       "    <tr>\n",
       "      <th>4</th>\n",
       "      <td>Maruti Swift VXI BSIII</td>\n",
       "      <td>2007</td>\n",
       "      <td>1690.0</td>\n",
       "      <td>120000</td>\n",
       "      <td>Petrol</td>\n",
       "      <td>Individual</td>\n",
       "      <td>Manual</td>\n",
       "      <td>First Owner</td>\n",
       "      <td>16.1 kmpl</td>\n",
       "      <td>1298 CC</td>\n",
       "      <td>88.2 bhp</td>\n",
       "      <td>11.5@ 4,500(kgm@ rpm)</td>\n",
       "      <td>5.0</td>\n",
       "    </tr>\n",
       "  </tbody>\n",
       "</table>\n",
       "</div>"
      ],
      "text/plain": [
       "                       Car_Name  Year  Selling_price  Km_driven    Fuel  \\\n",
       "0        Maruti Swift Dzire VDI  2014         5850.0     145500  Diesel   \n",
       "1  Skoda Rapid 1.5 TDI Ambition  2014         4810.0     120000  Diesel   \n",
       "2      Honda City 2017-2020 EXi  2006         2054.0     140000  Petrol   \n",
       "3     Hyundai i20 Sportz Diesel  2010         2925.0     127000  Diesel   \n",
       "4        Maruti Swift VXI BSIII  2007         1690.0     120000  Petrol   \n",
       "\n",
       "  Seller_type Transmission         Owner     mileage   engine   max_power  \\\n",
       "0  Individual       Manual   First Owner   23.4 kmpl  1248 CC      74 bhp   \n",
       "1  Individual       Manual  Second Owner  21.14 kmpl  1498 CC  103.52 bhp   \n",
       "2  Individual       Manual   Third Owner   17.7 kmpl  1497 CC      78 bhp   \n",
       "3  Individual       Manual   First Owner   23.0 kmpl  1396 CC      90 bhp   \n",
       "4  Individual       Manual   First Owner   16.1 kmpl  1298 CC    88.2 bhp   \n",
       "\n",
       "                     torque  seats  \n",
       "0            190Nm@ 2000rpm    5.0  \n",
       "1       250Nm@ 1500-2500rpm    5.0  \n",
       "2     12.7@ 2,700(kgm@ rpm)    5.0  \n",
       "3  22.4 kgm at 1750-2750rpm    5.0  \n",
       "4     11.5@ 4,500(kgm@ rpm)    5.0  "
      ]
     },
     "execution_count": 62,
     "metadata": {},
     "output_type": "execute_result"
    }
   ],
   "source": [
    "import pandas as pd\n",
    "pd.set_option(\"display.max_rows\", 16)\n",
    "from sklearn.linear_model import LinearRegression\n",
    "from sklearn.model_selection import train_test_split\n",
    "import numpy as np\n",
    "import matplotlib.pyplot as plt\n",
    "\n",
    "# LOADING THE DATASET\n",
    "# THE DATASET SHOULD BE ALONG WITH THE NOTEBOOK AND THE PYTHON FILE\n",
    "\n",
    "df = pd.read_csv('Cardekho.csv')\n",
    "df['Selling_price']=0.013*df['Selling_price'] # Change the values from Indian Roupies to Us Dollar\n",
    "df.head()"
   ]
  },
  {
   "cell_type": "markdown",
   "metadata": {},
   "source": [
    "### Preparing the data\n",
    "\n",
    "To perform multiple linear regression, the input X and y corresponding to the requested analysis must be prepared. Therefore:\n",
    "- *X* must be a vector of dimension (n_samples,2) with *n_samples* the amount of samples and 2 corresponding to the number of different features (Year and Km driven).\n",
    "- *y* is a vector of the corresponding target values (Selling_price) that is of dimension (n_samples,)\n",
    "\n",
    "Please split your data randomly into a training and a testing set. This is done using the function `train_test_split`. It splits arrays or matrices into random train and test subsets.\n",
    "It is called as follows:\n",
    "\n",
    "`X_train, X_test, y_train, y_test = train_test_split(X, y, options)`\n",
    "\n",
    "Following options will be most useful:\n",
    "- *test_size* can be a float or an int. If float, should be between 0.0 and 1.0 and represent the proportion of the dataset to include in the test split. If int, represents the absolute number of test samples. If None, the value is set to the complement of the train size. If *train_size* is also None, it will be set to 0.25.\n",
    "- *train_size* is similar to *test_size* and can be a float or an int. If float, should be between 0.0 and 1.0 and represent the proportion of the dataset to include in the train split. If int, represents the absolute number of train samples. If None, the value is automatically set to the complement of the test size.\n",
    "- *random_state* Controls the shuffling applied to the data before applying the split. Pass an int for reproducible output across multiple function calls. This int value is a numerical seed used for randomization.\n",
    "- *shuffle* is a bool. It decides whether or not to shuffle the data before splitting.\n",
    "\n",
    "### Training the model\n",
    "\n",
    "Use the corresponding *X_train* and *y_train* to train a LinearRegression model, just as it was done in the previous simple linear regression exercises."
   ]
  },
  {
   "cell_type": "code",
   "execution_count": 23,
   "metadata": {},
   "outputs": [],
   "source": [
    "X_Year=np.array(df['Year']).reshape(-1,1)\n",
    "X_Km=np.array(df['Km_driven']).reshape(-1,1)\n",
    "X=np.concatenate((X_Year,X_Km),axis=1)\n",
    "y=np.array(df['Selling_price']).reshape(-1,1)\n",
    "\n",
    "X_train, X_test, y_train, y_test = train_test_split(X, y, test_size=0.25, random_state=15)\n",
    "\n",
    "regr_Price = LinearRegression().fit(X_train,y_train)"
   ]
  },
  {
   "cell_type": "code",
   "execution_count": 25,
   "metadata": {},
   "outputs": [
    {
     "data": {
      "text/plain": [
       "(8128, 2)"
      ]
     },
     "execution_count": 25,
     "metadata": {},
     "output_type": "execute_result"
    }
   ],
   "source": [
    "X_Year.shape\n",
    "X_Km.shape\n",
    "X=np.concatenate((X_Year,X_Km),axis=1)\n",
    "X_Year.shape\n",
    "X.shape"
   ]
  },
  {
   "attachments": {
    "image.png": {
     "image/png": "[encoded data removed]"
    }
   },
   "cell_type": "markdown",
   "metadata": {},
   "source": [
    "To view the result of the linear regression model, a 3D graph has to be plotted. Therefore, the Axes3D function from matplotlib will be used. This is a special toolkit that has to be called separately from matplotlib. It is called on an already existing figure and the orientation of the view can be specified:\n",
    "\n",
    "`ax = Axes3D(fig, elev, azim)`\n",
    "\n",
    "With:\n",
    "- *fig* the figure object from matplotlib\n",
    "- *elev* the elevation viewing angle in spherical coordinates\n",
    "- *azim* the azimuthal viewing angle in spherical coordinates\n",
    "\n",
    "![image.png](attachment:image.png)\n",
    "\n",
    "Afterwards, plotting function can be used on the 3d axis: *scatter* allows to create a scatter plot and *surface* permits the drawing of surface area.\n"
   ]
  },
  {
   "cell_type": "code",
   "execution_count": 65,
   "metadata": {},
   "outputs": [
    {
     "data": {
      "image/png": "[encoded data removed]",
      "text/plain": [
       "<Figure size 576x432 with 1 Axes>"
      ]
     },
     "metadata": {
      "needs_background": "light"
     },
     "output_type": "display_data"
    }
   ],
   "source": [
    "from mpl_toolkits.mplot3d import Axes3D\n",
    "from IPython.display import display, clear_output\n",
    "\n",
    "# DO NOT EDIT -- This creates the figure environment where the 3D graph will be drawn\n",
    "fig = plt.figure(1, figsize=(8, 6))\n",
    "plt.clf()\n",
    "elev = 0\n",
    "azim = -90\n",
    "ax = Axes3D(fig, elev=elev, azim=azim)\n",
    "\n",
    "# This allows to create a vector containing min and max values for each parameters to plot a surface\n",
    "# representing the model that was fitted\n",
    "Year_min=X_train[:, 0].min()\n",
    "Year_max=X_train[:, 0].max()\n",
    "Km_min=X_train[:, 1].min()\n",
    "Km_max=X_train[:, 1].max()\n",
    "X_Surf=np.array([[Year_min, Year_min, Year_max, Year_max],[Km_min, Km_max, Km_min, Km_max]])\n",
    "\n",
    "# This is the matrix containing the prediction\n",
    "y_pred_Surf=regr_Price.predict(X_Surf.T).reshape((2, 2))\n",
    "\n",
    "# This plots the training datas as scatters\n",
    "ax.scatter(X_train[:, 0], X_train[:, 1], y_train, c='k', marker='+')\n",
    "\n",
    "# This plots the surface representing the model\n",
    "ax.plot_surface(X_Surf.T[:,0].reshape((2, 2)),\n",
    "                X_Surf.T[:,1].reshape((2, 2)),\n",
    "                y_pred_Surf,\n",
    "                alpha=.5)\n",
    "ax.set_xlabel('Year')\n",
    "ax.set_ylabel('Km driven')\n",
    "ax.set_zlabel('Selling Price')\n",
    "ax.set_ylim(0, 100000)\n",
    "\n",
    "plt.show()"
   ]
  },
  {
   "cell_type": "markdown",
   "metadata": {},
   "source": [
    "The code below allows to see an animated view of the plane by rotating the grid around the axis selling price."
   ]
  },
  {
   "cell_type": "code",
   "execution_count": 18,
   "metadata": {},
   "outputs": [
    {
     "data": {
      "image/png": "[encoded data removed]",
      "text/plain": [
       "<Figure size 576x432 with 1 Axes>"
      ]
     },
     "metadata": {},
     "output_type": "display_data"
    }
   ],
   "source": [
    "animate = lambda i: ax.view_init(elev+angle, azim)\n",
    "# rotate the axes and update\n",
    "for angle in range(0, 5): ## To be edited to range(0, 360)\n",
    "    animate(angle)\n",
    "    clear_output(wait=True)\n",
    "    display(fig)"
   ]
  },
  {
   "cell_type": "markdown",
   "metadata": {},
   "source": [
    "### Using the model to make predictions\n",
    "\n",
    "The obtained linear regression model can be used to get a value for the price of any car to be put on sales according that you would know the amount of km driven and the release year of that car.\n",
    "\n",
    "Hint: To use the method `.predict()` you have to adapt the inputs to the shape (1,2).\n",
    "\n",
    "- Try to find the price of a brand new car (0 km) of 1985. (round it to cents)\n",
    "\n",
    "- Try to find the price of a car of 2018 with 200 000 km driven. (round it to cents)\n",
    "\n",
    "- According to the model, are there recent cars (year>2000) with a negative price ? Show that there is at least one car that has a negative predicted value.\n",
    "\n",
    "- Is it possible to get the limit when values get close to zero ?"
   ]
  },
  {
   "cell_type": "code",
   "execution_count": 39,
   "metadata": {},
   "outputs": [
    {
     "data": {
      "text/plain": [
       "-18990.33"
      ]
     },
     "execution_count": 39,
     "metadata": {},
     "output_type": "execute_result"
    }
   ],
   "source": [
    "y_1985_new=regr_Price.predict(np.array([1985,0]).reshape(1,-1))\n",
    "round(y_1985_new[0][0],2)"
   ]
  },
  {
   "cell_type": "code",
   "execution_count": 31,
   "metadata": {},
   "outputs": [
    {
     "data": {
      "text/plain": [
       "array([[1985,    0]])"
      ]
     },
     "execution_count": 31,
     "metadata": {},
     "output_type": "execute_result"
    }
   ],
   "source": [
    "np.array([1985,0]).reshape(1,-1)"
   ]
  },
  {
   "cell_type": "code",
   "execution_count": 32,
   "metadata": {},
   "outputs": [
    {
     "data": {
      "text/plain": [
       "array([[  2014, 145500],\n",
       "       [  2014, 120000],\n",
       "       [  2006, 140000],\n",
       "       ...,\n",
       "       [  2009, 120000],\n",
       "       [  2013,  25000],\n",
       "       [  2013,  25000]], dtype=int64)"
      ]
     },
     "execution_count": 32,
     "metadata": {},
     "output_type": "execute_result"
    }
   ],
   "source": [
    "X"
   ]
  },
  {
   "cell_type": "code",
   "execution_count": 40,
   "metadata": {},
   "outputs": [
    {
     "data": {
      "text/plain": [
       "10759.43"
      ]
     },
     "execution_count": 40,
     "metadata": {},
     "output_type": "execute_result"
    }
   ],
   "source": [
    "y_2018_car=regr_Price.predict(np.array([2018,200000]).reshape(1,-1))\n",
    "round(y_2018_car[0][0],2)"
   ]
  },
  {
   "cell_type": "code",
   "execution_count": 46,
   "metadata": {},
   "outputs": [
    {
     "data": {
      "text/plain": [
       "-4342.48"
      ]
     },
     "execution_count": 46,
     "metadata": {},
     "output_type": "execute_result"
    }
   ],
   "source": [
    "y_2018_car=regr_Price.predict(np.array([2000,0]).reshape(1,-1))\n",
    "round(y_2018_car[0][0],2)"
   ]
  },
  {
   "cell_type": "code",
   "execution_count": 47,
   "metadata": {},
   "outputs": [
    {
     "name": "stdout",
     "output_type": "stream",
     "text": [
      "f(Year,km driven)= 976.5230792743909 * Year + -0.012377525550215571 * km driven + -1957388.6402222316\n"
     ]
    }
   ],
   "source": [
    "print(f'f(Year,km driven)= {regr_Price.coef_[0,0]} * Year + {regr_Price.coef_[0,1]} * km driven + {regr_Price.intercept_[0]}')"
   ]
  },
  {
   "cell_type": "markdown",
   "metadata": {},
   "source": [
    "Help for the 4th question: Find the limit for each year from 1985 to 2018, when you get a zero value for a certain amount of `km_driven`.\n",
    "\n",
    "$y= \\alpha_0 * \\textrm{Year} + \\alpha_1 * \\textrm{Km driven} + \\beta$\n",
    "\n",
    "With:\n",
    "- $\\beta$ the intercept value.\n",
    "- $\\alpha_0$ the \"year\" coefficient\n",
    "- $\\alpha_1$ the \"km_driven\" coefficient\n",
    "\n",
    "For each year we create a new value of beta (New_Intercept):\n",
    "\n",
    "$\\beta_2=\\alpha_0 * \\textrm{Year} + \\beta$\n",
    "\n",
    "It is then easier to solve the zero crossing (y=0):\n",
    "\n",
    "$0=\\alpha_1 * \\textrm{Km driven} + \\beta_2$\n",
    "\n",
    "$\\textrm{Km driven (Price=0)}= -\\frac{\\beta_2}{\\alpha_1}$"
   ]
  },
  {
   "cell_type": "code",
   "execution_count": 61,
   "metadata": {},
   "outputs": [
    {
     "name": "stdout",
     "output_type": "stream",
     "text": [
      "f(Year,km driven)= 976.5230792743909 * Year + -0.012377525550215571 * km driven + -1957388.6402222316\n"
     ]
    },
    {
     "data": {
      "image/png": "[encoded data removed]",
      "text/plain": [
       "<Figure size 432x288 with 1 Axes>"
      ]
     },
     "metadata": {
      "needs_background": "light"
     },
     "output_type": "display_data"
    }
   ],
   "source": [
    "print(f'f(Year,km driven)= {regr_Price.coef_[0,0]} * Year + {regr_Price.coef_[0,1]} * km driven + {regr_Price.intercept_[0]}')\n",
    "\n",
    "Year=np.arange(1985,2019,1)\n",
    "\n",
    "New_Intercept=regr_Price.coef_[0,0]*Year+regr_Price.intercept_[0]\n",
    "\n",
    "Km_driven_0= - New_Intercept / regr_Price.coef_[0,1]\n",
    "\n",
    "fig = plt.figure()\n",
    "plt.clf()\n",
    "plt.plot(Year, Km_driven_0, color='blue', linewidth=3)\n",
    "plt.grid()\n",
    "plt.xlabel(\"Year\")\n",
    "plt.ylabel(\"km driven of 0 $ car\")\n",
    "plt.show()"
   ]
  },
  {
   "cell_type": "code",
   "execution_count": 56,
   "metadata": {},
   "outputs": [
    {
     "data": {
      "text/plain": [
       "array([-18990.32786257, -18013.80478329, -17037.28170402, -16060.75862474,\n",
       "       -15084.23554547, -14107.71246619, -13131.18938692, -12154.66630765,\n",
       "       -11178.14322837, -10201.6201491 ,  -9225.09706982,  -8248.57399055,\n",
       "        -7272.05091127,  -6295.527832  ,  -5319.00475272,  -4342.48167345,\n",
       "        -3365.95859418,  -2389.4355149 ,  -1412.91243563,   -436.38935635,\n",
       "          540.13372292,   1516.6568022 ,   2493.17988147,   3469.70296075,\n",
       "         4446.22604002,   5422.74911929,   6399.27219857,   7375.79527784,\n",
       "         8352.31835712,   9328.84143639,  10305.36451567,  11281.88759494,\n",
       "        12258.41067421,  13234.93375349])"
      ]
     },
     "execution_count": 56,
     "metadata": {},
     "output_type": "execute_result"
    }
   ],
   "source": [
    "New_Intercept"
   ]
  },
  {
   "cell_type": "markdown",
   "metadata": {},
   "source": [
    "### Estimating the precisions of the model\n",
    "\n",
    "Use the different learned metrics from the previous lesson (simple linear regression) to assess the precision of the model. Remember that these metrics only depend on the *y* values."
   ]
  },
  {
   "cell_type": "code",
   "execution_count": 68,
   "metadata": {},
   "outputs": [
    {
     "name": "stdout",
     "output_type": "stream",
     "text": [
      "Mean squared error: 9673.77\n",
      "Coefficient of determination: 0.18\n"
     ]
    }
   ],
   "source": [
    "from sklearn.metrics import mean_squared_error, r2_score\n",
    "\n",
    "regr_Price_pred = regr_Price.predict(X_test)\n",
    "\n",
    "# The mean squared error\n",
    "print('Mean squared error: %.2f'\n",
    "      % np.sqrt(mean_squared_error(y_test, regr_Price_pred)))\n",
    "\n",
    "# The coefficient of determination: 1 is perfect prediction\n",
    "print('Coefficient of determination: %.2f'\n",
    "      % r2_score(y_test, regr_Price_pred))"
   ]
  },
  {
   "cell_type": "code",
   "execution_count": 69,
   "metadata": {},
   "outputs": [
    {
     "data": {
      "text/html": [
       "<div>\n",
       "<style scoped>\n",
       "    .dataframe tbody tr th:only-of-type {\n",
       "        vertical-align: middle;\n",
       "    }\n",
       "\n",
       "    .dataframe tbody tr th {\n",
       "        vertical-align: top;\n",
       "    }\n",
       "\n",
       "    .dataframe thead th {\n",
       "        text-align: right;\n",
       "    }\n",
       "</style>\n",
       "<table border=\"1\" class=\"dataframe\">\n",
       "  <thead>\n",
       "    <tr style=\"text-align: right;\">\n",
       "      <th></th>\n",
       "      <th>Car_Name</th>\n",
       "      <th>Year</th>\n",
       "      <th>Selling_price</th>\n",
       "      <th>Km_driven</th>\n",
       "      <th>Fuel</th>\n",
       "      <th>Seller_type</th>\n",
       "      <th>Transmission</th>\n",
       "      <th>Owner</th>\n",
       "      <th>mileage</th>\n",
       "      <th>engine</th>\n",
       "      <th>max_power</th>\n",
       "      <th>torque</th>\n",
       "      <th>seats</th>\n",
       "    </tr>\n",
       "  </thead>\n",
       "  <tbody>\n",
       "    <tr>\n",
       "      <th>0</th>\n",
       "      <td>Maruti Swift Dzire VDI</td>\n",
       "      <td>2014</td>\n",
       "      <td>5850.0</td>\n",
       "      <td>145500</td>\n",
       "      <td>Diesel</td>\n",
       "      <td>Individual</td>\n",
       "      <td>Manual</td>\n",
       "      <td>First Owner</td>\n",
       "      <td>23.4 kmpl</td>\n",
       "      <td>1248 CC</td>\n",
       "      <td>74 bhp</td>\n",
       "      <td>190Nm@ 2000rpm</td>\n",
       "      <td>5.0</td>\n",
       "    </tr>\n",
       "    <tr>\n",
       "      <th>1</th>\n",
       "      <td>Skoda Rapid 1.5 TDI Ambition</td>\n",
       "      <td>2014</td>\n",
       "      <td>4810.0</td>\n",
       "      <td>120000</td>\n",
       "      <td>Diesel</td>\n",
       "      <td>Individual</td>\n",
       "      <td>Manual</td>\n",
       "      <td>Second Owner</td>\n",
       "      <td>21.14 kmpl</td>\n",
       "      <td>1498 CC</td>\n",
       "      <td>103.52 bhp</td>\n",
       "      <td>250Nm@ 1500-2500rpm</td>\n",
       "      <td>5.0</td>\n",
       "    </tr>\n",
       "    <tr>\n",
       "      <th>2</th>\n",
       "      <td>Honda City 2017-2020 EXi</td>\n",
       "      <td>2006</td>\n",
       "      <td>2054.0</td>\n",
       "      <td>140000</td>\n",
       "      <td>Petrol</td>\n",
       "      <td>Individual</td>\n",
       "      <td>Manual</td>\n",
       "      <td>Third Owner</td>\n",
       "      <td>17.7 kmpl</td>\n",
       "      <td>1497 CC</td>\n",
       "      <td>78 bhp</td>\n",
       "      <td>12.7@ 2,700(kgm@ rpm)</td>\n",
       "      <td>5.0</td>\n",
       "    </tr>\n",
       "    <tr>\n",
       "      <th>3</th>\n",
       "      <td>Hyundai i20 Sportz Diesel</td>\n",
       "      <td>2010</td>\n",
       "      <td>2925.0</td>\n",
       "      <td>127000</td>\n",
       "      <td>Diesel</td>\n",
       "      <td>Individual</td>\n",
       "      <td>Manual</td>\n",
       "      <td>First Owner</td>\n",
       "      <td>23.0 kmpl</td>\n",
       "      <td>1396 CC</td>\n",
       "      <td>90 bhp</td>\n",
       "      <td>22.4 kgm at 1750-2750rpm</td>\n",
       "      <td>5.0</td>\n",
       "    </tr>\n",
       "    <tr>\n",
       "      <th>4</th>\n",
       "      <td>Maruti Swift VXI BSIII</td>\n",
       "      <td>2007</td>\n",
       "      <td>1690.0</td>\n",
       "      <td>120000</td>\n",
       "      <td>Petrol</td>\n",
       "      <td>Individual</td>\n",
       "      <td>Manual</td>\n",
       "      <td>First Owner</td>\n",
       "      <td>16.1 kmpl</td>\n",
       "      <td>1298 CC</td>\n",
       "      <td>88.2 bhp</td>\n",
       "      <td>11.5@ 4,500(kgm@ rpm)</td>\n",
       "      <td>5.0</td>\n",
       "    </tr>\n",
       "  </tbody>\n",
       "</table>\n",
       "</div>"
      ],
      "text/plain": [
       "                       Car_Name  Year  Selling_price  Km_driven    Fuel  \\\n",
       "0        Maruti Swift Dzire VDI  2014         5850.0     145500  Diesel   \n",
       "1  Skoda Rapid 1.5 TDI Ambition  2014         4810.0     120000  Diesel   \n",
       "2      Honda City 2017-2020 EXi  2006         2054.0     140000  Petrol   \n",
       "3     Hyundai i20 Sportz Diesel  2010         2925.0     127000  Diesel   \n",
       "4        Maruti Swift VXI BSIII  2007         1690.0     120000  Petrol   \n",
       "\n",
       "  Seller_type Transmission         Owner     mileage   engine   max_power  \\\n",
       "0  Individual       Manual   First Owner   23.4 kmpl  1248 CC      74 bhp   \n",
       "1  Individual       Manual  Second Owner  21.14 kmpl  1498 CC  103.52 bhp   \n",
       "2  Individual       Manual   Third Owner   17.7 kmpl  1497 CC      78 bhp   \n",
       "3  Individual       Manual   First Owner   23.0 kmpl  1396 CC      90 bhp   \n",
       "4  Individual       Manual   First Owner   16.1 kmpl  1298 CC    88.2 bhp   \n",
       "\n",
       "                     torque  seats  \n",
       "0            190Nm@ 2000rpm    5.0  \n",
       "1       250Nm@ 1500-2500rpm    5.0  \n",
       "2     12.7@ 2,700(kgm@ rpm)    5.0  \n",
       "3  22.4 kgm at 1750-2750rpm    5.0  \n",
       "4     11.5@ 4,500(kgm@ rpm)    5.0  "
      ]
     },
     "execution_count": 69,
     "metadata": {},
     "output_type": "execute_result"
    }
   ],
   "source": [
    "df.head()"
   ]
  },
  {
   "cell_type": "markdown",
   "metadata": {},
   "source": [
    "### Using another factor\n",
    "\n",
    "The column of the engine dimension can be processed to become a numerical value. This will allow to make better predictions.\n",
    "The more information you would get from the dataset the more accurate your predictions should be."
   ]
  },
  {
   "cell_type": "code",
   "execution_count": 73,
   "metadata": {},
   "outputs": [
    {
     "name": "stdout",
     "output_type": "stream",
     "text": [
      "Mean squared error: 8653.20\n",
      "Coefficient of determination: 0.39\n"
     ]
    }
   ],
   "source": [
    "df=df.dropna() #This will require a new generation of all data vectors\n",
    "df['engine']=df['engine'].apply(lambda x: int(str(x).strip(' CC')))\n",
    "\n",
    "X_Year=np.array(df['Year']).reshape(-1,1)\n",
    "X_Engine=np.array(df['engine']).reshape(-1,1)\n",
    "X_Km=np.array(df['Km_driven']).reshape(-1,1)\n",
    "new_y=np.array(df['Selling_price']).reshape(-1,1)\n",
    "new_X=np.concatenate((X_Year,X_Km,X_Engine),axis=1)\n",
    "\n",
    "\n",
    "X_train_new, X_test_new, y_train_new, y_test_new = train_test_split(new_X, new_y, test_size=0.25, random_state=15)\n",
    "\n",
    "regr_Price_new = LinearRegression().fit(X_train_new,y_train_new)\n",
    "\n",
    "regr_Price_pred_new = regr_Price_new.predict(X_test_new)\n",
    "\n",
    "# The mean squared error\n",
    "print('Mean squared error: %.2f'\n",
    "      % np.sqrt(mean_squared_error(y_test_new, regr_Price_pred_new)))\n",
    "\n",
    "# The coefficient of determination: 1 is perfect prediction\n",
    "print('Coefficient of determination: %.2f'\n",
    "      % r2_score(y_test_new, regr_Price_pred_new))"
   ]
  },
  {
   "cell_type": "code",
   "execution_count": 81,
   "metadata": {},
   "outputs": [
    {
     "name": "stdout",
     "output_type": "stream",
     "text": [
      "f(Year,km driven)= 896.15 * Year + -0.03 * km driven + 10.07 * engine size + -1809034.0\n",
      "f(Year,km driven)= 976.52 * Year + -0.01 * km driven + -1957388.64\n"
     ]
    },
    {
     "data": {
      "text/plain": [
       "-1809034.0"
      ]
     },
     "execution_count": 81,
     "metadata": {},
     "output_type": "execute_result"
    }
   ],
   "source": [
    "print(f'f(Year,km driven)= {round(regr_Price_new.coef_[0,0],2)} * Year + {round(regr_Price_new.coef_[0,1],2)} * km driven + {round(regr_Price_new.coef_[0,2],2)} * engine size + {round(regr_Price_new.intercept_[0],2)}')\n",
    "\n",
    "print(f'f(Year,km driven)= {round(regr_Price.coef_[0,0],2)} * Year + {round(regr_Price.coef_[0,1],2)} * km driven + {round(regr_Price.intercept_[0],2)}')\n",
    "\n",
    "round(regr_Price_new.predict(np.array([0,0,0]).reshape(1,-1))[0][0],2)"
   ]
  },
  {
   "cell_type": "markdown",
   "metadata": {},
   "source": [
    "## Second exercise with a financial database\n",
    "\n",
    "This exercise is made to show how to apply multiple linear regression with scikit-learn. It is based on a stock market database that will be analysed and used to make a `LinearRegression` model learn. The objective is clear: predict the evolution of the stock price by the end of the next session.\n",
    "\n",
    "* Step 1: Import libraries and load the data into the environment.\n",
    "* Step 2: Generate the features of the model that are related with some measure of volatility, price and volume. \n",
    "* Step 3: Visualize the correlation between the features and target variable with scatterplots.\n",
    "* Step 4: Create the train and test dataset and fit the model using the linear regression algorithm. \n",
    "* Step 5: Make predictions, obtain the performance of the model, and plot the results. \n",
    "\n",
    "### Import libraries and load the data into the environment.\n",
    "\n",
    "We will first import the required libraries in our Python environment. Data to be used here is SPY_regression.csv.\n",
    "\n",
    "That data, is real and comes from: https://finance.yahoo.com/quote/SPY/history/.\n",
    "It is the price of a stock coming from the SPDR funds (pronounced \"spider\"). This funds are a family of exchange-traded funds (ETFs) traded in the United States, Europe, and Asia-Pacific and managed by State Street Global Advisors (SSGA). SPDR is a trademark of Standard and Poor's Financial Services LLC, a subsidiary of S&P Global. SPDR means Standard and Poor's Depository Receipt.\n",
    "\n",
    "The name is an acronym for the first member of the family, the Standard & Poor's Depositary Receipts, now the SPDR S&P 500, which is designed to track the S&P 500 stock market index. For a long time, this fund was the largest ETF in the world. SSGA also manage the SPDR Gold Shares, which for a while was the second-largest ETF in the world.\n",
    "\n",
    "It is a table that contain information on stocks.\n",
    "Columns of that dataset are:\n",
    "- *Date* The date\n",
    "- *Open* Value of the stock at opening\n",
    "- *High* Highest value of the stock that day\n",
    "- *Low* Lowest value of the stock that day\n",
    "- *Close* Close price adjusted for splits.\n",
    "- *Volume* Volume of traded stock\n",
    "- *Adj Close* Adjusted close price adjusted for both dividends and splits."
   ]
  },
  {
   "cell_type": "code",
   "execution_count": 83,
   "metadata": {},
   "outputs": [
    {
     "data": {
      "text/html": [
       "<div>\n",
       "<style scoped>\n",
       "    .dataframe tbody tr th:only-of-type {\n",
       "        vertical-align: middle;\n",
       "    }\n",
       "\n",
       "    .dataframe tbody tr th {\n",
       "        vertical-align: top;\n",
       "    }\n",
       "\n",
       "    .dataframe thead th {\n",
       "        text-align: right;\n",
       "    }\n",
       "</style>\n",
       "<table border=\"1\" class=\"dataframe\">\n",
       "  <thead>\n",
       "    <tr style=\"text-align: right;\">\n",
       "      <th></th>\n",
       "      <th>Date</th>\n",
       "      <th>Open</th>\n",
       "      <th>High</th>\n",
       "      <th>Low</th>\n",
       "      <th>Close</th>\n",
       "      <th>Volume</th>\n",
       "      <th>Adj Close</th>\n",
       "    </tr>\n",
       "  </thead>\n",
       "  <tbody>\n",
       "    <tr>\n",
       "      <th>0</th>\n",
       "      <td>2015-12-07</td>\n",
       "      <td>2090.419922</td>\n",
       "      <td>2090.419922</td>\n",
       "      <td>2066.780029</td>\n",
       "      <td>2077.070068</td>\n",
       "      <td>4.043820e+09</td>\n",
       "      <td>2077.070068</td>\n",
       "    </tr>\n",
       "    <tr>\n",
       "      <th>1</th>\n",
       "      <td>2015-12-04</td>\n",
       "      <td>2051.239990</td>\n",
       "      <td>2093.840088</td>\n",
       "      <td>2051.239990</td>\n",
       "      <td>2091.689941</td>\n",
       "      <td>4.214910e+09</td>\n",
       "      <td>2091.689941</td>\n",
       "    </tr>\n",
       "    <tr>\n",
       "      <th>2</th>\n",
       "      <td>2015-12-03</td>\n",
       "      <td>2080.709961</td>\n",
       "      <td>2085.000000</td>\n",
       "      <td>2042.349976</td>\n",
       "      <td>2049.620117</td>\n",
       "      <td>4.306490e+09</td>\n",
       "      <td>2049.620117</td>\n",
       "    </tr>\n",
       "    <tr>\n",
       "      <th>3</th>\n",
       "      <td>2015-12-02</td>\n",
       "      <td>2101.709961</td>\n",
       "      <td>2104.270020</td>\n",
       "      <td>2077.110107</td>\n",
       "      <td>2079.510010</td>\n",
       "      <td>3.950640e+09</td>\n",
       "      <td>2079.510010</td>\n",
       "    </tr>\n",
       "    <tr>\n",
       "      <th>4</th>\n",
       "      <td>2015-12-01</td>\n",
       "      <td>2082.929932</td>\n",
       "      <td>2103.370117</td>\n",
       "      <td>2082.929932</td>\n",
       "      <td>2102.629883</td>\n",
       "      <td>3.712120e+09</td>\n",
       "      <td>2102.629883</td>\n",
       "    </tr>\n",
       "    <tr>\n",
       "      <th>5</th>\n",
       "      <td>2015-11-30</td>\n",
       "      <td>2090.949951</td>\n",
       "      <td>2093.810059</td>\n",
       "      <td>2080.409912</td>\n",
       "      <td>2080.409912</td>\n",
       "      <td>4.245030e+09</td>\n",
       "      <td>2080.409912</td>\n",
       "    </tr>\n",
       "    <tr>\n",
       "      <th>6</th>\n",
       "      <td>2015-11-27</td>\n",
       "      <td>2088.820068</td>\n",
       "      <td>2093.290039</td>\n",
       "      <td>2084.129883</td>\n",
       "      <td>2090.110107</td>\n",
       "      <td>1.466840e+09</td>\n",
       "      <td>2090.110107</td>\n",
       "    </tr>\n",
       "    <tr>\n",
       "      <th>7</th>\n",
       "      <td>2015-11-25</td>\n",
       "      <td>2089.300049</td>\n",
       "      <td>2093.000000</td>\n",
       "      <td>2086.300049</td>\n",
       "      <td>2088.870117</td>\n",
       "      <td>2.852940e+09</td>\n",
       "      <td>2088.870117</td>\n",
       "    </tr>\n",
       "    <tr>\n",
       "      <th>8</th>\n",
       "      <td>2015-11-24</td>\n",
       "      <td>2084.419922</td>\n",
       "      <td>2094.120117</td>\n",
       "      <td>2070.290039</td>\n",
       "      <td>2089.139893</td>\n",
       "      <td>3.884930e+09</td>\n",
       "      <td>2089.139893</td>\n",
       "    </tr>\n",
       "    <tr>\n",
       "      <th>9</th>\n",
       "      <td>2015-11-23</td>\n",
       "      <td>2089.409912</td>\n",
       "      <td>2095.610107</td>\n",
       "      <td>2081.389893</td>\n",
       "      <td>2086.590088</td>\n",
       "      <td>3.587980e+09</td>\n",
       "      <td>2086.590088</td>\n",
       "    </tr>\n",
       "  </tbody>\n",
       "</table>\n",
       "</div>"
      ],
      "text/plain": [
       "        Date         Open         High          Low        Close  \\\n",
       "0 2015-12-07  2090.419922  2090.419922  2066.780029  2077.070068   \n",
       "1 2015-12-04  2051.239990  2093.840088  2051.239990  2091.689941   \n",
       "2 2015-12-03  2080.709961  2085.000000  2042.349976  2049.620117   \n",
       "3 2015-12-02  2101.709961  2104.270020  2077.110107  2079.510010   \n",
       "4 2015-12-01  2082.929932  2103.370117  2082.929932  2102.629883   \n",
       "5 2015-11-30  2090.949951  2093.810059  2080.409912  2080.409912   \n",
       "6 2015-11-27  2088.820068  2093.290039  2084.129883  2090.110107   \n",
       "7 2015-11-25  2089.300049  2093.000000  2086.300049  2088.870117   \n",
       "8 2015-11-24  2084.419922  2094.120117  2070.290039  2089.139893   \n",
       "9 2015-11-23  2089.409912  2095.610107  2081.389893  2086.590088   \n",
       "\n",
       "         Volume    Adj Close  \n",
       "0  4.043820e+09  2077.070068  \n",
       "1  4.214910e+09  2091.689941  \n",
       "2  4.306490e+09  2049.620117  \n",
       "3  3.950640e+09  2079.510010  \n",
       "4  3.712120e+09  2102.629883  \n",
       "5  4.245030e+09  2080.409912  \n",
       "6  1.466840e+09  2090.110107  \n",
       "7  2.852940e+09  2088.870117  \n",
       "8  3.884930e+09  2089.139893  \n",
       "9  3.587980e+09  2086.590088  "
      ]
     },
     "execution_count": 83,
     "metadata": {},
     "output_type": "execute_result"
    }
   ],
   "source": [
    "#import pandas as pd \n",
    "from datetime import datetime\n",
    "#import numpy as np \n",
    "#from sklearn.linear_model import LinearRegression\n",
    "#import matplotlib.pyplot as plt\n",
    "\n",
    "SPY_data = pd.read_csv(\"SPY_regression.csv\")\n",
    " \n",
    "# Change the Date column from object to datetime object \n",
    "SPY_data[\"Date\"] = pd.to_datetime(SPY_data[\"Date\"])\n",
    " \n",
    "# Preview the data\n",
    "SPY_data.head(10)"
   ]
  },
  {
   "cell_type": "markdown",
   "metadata": {},
   "source": [
    "Set the date as an index and reverse the order of the dataframe in order to have oldest values at top."
   ]
  },
  {
   "cell_type": "code",
   "execution_count": 84,
   "metadata": {},
   "outputs": [
    {
     "data": {
      "text/html": [
       "<div>\n",
       "<style scoped>\n",
       "    .dataframe tbody tr th:only-of-type {\n",
       "        vertical-align: middle;\n",
       "    }\n",
       "\n",
       "    .dataframe tbody tr th {\n",
       "        vertical-align: top;\n",
       "    }\n",
       "\n",
       "    .dataframe thead th {\n",
       "        text-align: right;\n",
       "    }\n",
       "</style>\n",
       "<table border=\"1\" class=\"dataframe\">\n",
       "  <thead>\n",
       "    <tr style=\"text-align: right;\">\n",
       "      <th></th>\n",
       "      <th>Open</th>\n",
       "      <th>High</th>\n",
       "      <th>Low</th>\n",
       "      <th>Close</th>\n",
       "      <th>Volume</th>\n",
       "      <th>Adj Close</th>\n",
       "    </tr>\n",
       "    <tr>\n",
       "      <th>Date</th>\n",
       "      <th></th>\n",
       "      <th></th>\n",
       "      <th></th>\n",
       "      <th></th>\n",
       "      <th></th>\n",
       "      <th></th>\n",
       "    </tr>\n",
       "  </thead>\n",
       "  <tbody>\n",
       "    <tr>\n",
       "      <th>2010-01-04</th>\n",
       "      <td>1116.560059</td>\n",
       "      <td>1133.869995</td>\n",
       "      <td>1116.560059</td>\n",
       "      <td>1132.989990</td>\n",
       "      <td>3.991400e+09</td>\n",
       "      <td>1132.989990</td>\n",
       "    </tr>\n",
       "    <tr>\n",
       "      <th>2010-01-05</th>\n",
       "      <td>1132.660034</td>\n",
       "      <td>1136.630005</td>\n",
       "      <td>1129.660034</td>\n",
       "      <td>1136.520020</td>\n",
       "      <td>2.491020e+09</td>\n",
       "      <td>1136.520020</td>\n",
       "    </tr>\n",
       "    <tr>\n",
       "      <th>2010-01-06</th>\n",
       "      <td>1135.709961</td>\n",
       "      <td>1139.189941</td>\n",
       "      <td>1133.949951</td>\n",
       "      <td>1137.140015</td>\n",
       "      <td>4.972660e+09</td>\n",
       "      <td>1137.140015</td>\n",
       "    </tr>\n",
       "    <tr>\n",
       "      <th>2010-01-07</th>\n",
       "      <td>1136.270020</td>\n",
       "      <td>1142.459961</td>\n",
       "      <td>1131.319946</td>\n",
       "      <td>1141.689941</td>\n",
       "      <td>5.270680e+09</td>\n",
       "      <td>1141.689941</td>\n",
       "    </tr>\n",
       "    <tr>\n",
       "      <th>2010-01-08</th>\n",
       "      <td>1140.520020</td>\n",
       "      <td>1145.390015</td>\n",
       "      <td>1136.219971</td>\n",
       "      <td>1144.979980</td>\n",
       "      <td>4.389590e+09</td>\n",
       "      <td>1144.979980</td>\n",
       "    </tr>\n",
       "    <tr>\n",
       "      <th>...</th>\n",
       "      <td>...</td>\n",
       "      <td>...</td>\n",
       "      <td>...</td>\n",
       "      <td>...</td>\n",
       "      <td>...</td>\n",
       "      <td>...</td>\n",
       "    </tr>\n",
       "    <tr>\n",
       "      <th>2015-12-01</th>\n",
       "      <td>2082.929932</td>\n",
       "      <td>2103.370117</td>\n",
       "      <td>2082.929932</td>\n",
       "      <td>2102.629883</td>\n",
       "      <td>3.712120e+09</td>\n",
       "      <td>2102.629883</td>\n",
       "    </tr>\n",
       "    <tr>\n",
       "      <th>2015-12-02</th>\n",
       "      <td>2101.709961</td>\n",
       "      <td>2104.270020</td>\n",
       "      <td>2077.110107</td>\n",
       "      <td>2079.510010</td>\n",
       "      <td>3.950640e+09</td>\n",
       "      <td>2079.510010</td>\n",
       "    </tr>\n",
       "    <tr>\n",
       "      <th>2015-12-03</th>\n",
       "      <td>2080.709961</td>\n",
       "      <td>2085.000000</td>\n",
       "      <td>2042.349976</td>\n",
       "      <td>2049.620117</td>\n",
       "      <td>4.306490e+09</td>\n",
       "      <td>2049.620117</td>\n",
       "    </tr>\n",
       "    <tr>\n",
       "      <th>2015-12-04</th>\n",
       "      <td>2051.239990</td>\n",
       "      <td>2093.840088</td>\n",
       "      <td>2051.239990</td>\n",
       "      <td>2091.689941</td>\n",
       "      <td>4.214910e+09</td>\n",
       "      <td>2091.689941</td>\n",
       "    </tr>\n",
       "    <tr>\n",
       "      <th>2015-12-07</th>\n",
       "      <td>2090.419922</td>\n",
       "      <td>2090.419922</td>\n",
       "      <td>2066.780029</td>\n",
       "      <td>2077.070068</td>\n",
       "      <td>4.043820e+09</td>\n",
       "      <td>2077.070068</td>\n",
       "    </tr>\n",
       "  </tbody>\n",
       "</table>\n",
       "<p>1493 rows × 6 columns</p>\n",
       "</div>"
      ],
      "text/plain": [
       "                   Open         High          Low        Close        Volume  \\\n",
       "Date                                                                           \n",
       "2010-01-04  1116.560059  1133.869995  1116.560059  1132.989990  3.991400e+09   \n",
       "2010-01-05  1132.660034  1136.630005  1129.660034  1136.520020  2.491020e+09   \n",
       "2010-01-06  1135.709961  1139.189941  1133.949951  1137.140015  4.972660e+09   \n",
       "2010-01-07  1136.270020  1142.459961  1131.319946  1141.689941  5.270680e+09   \n",
       "2010-01-08  1140.520020  1145.390015  1136.219971  1144.979980  4.389590e+09   \n",
       "...                 ...          ...          ...          ...           ...   \n",
       "2015-12-01  2082.929932  2103.370117  2082.929932  2102.629883  3.712120e+09   \n",
       "2015-12-02  2101.709961  2104.270020  2077.110107  2079.510010  3.950640e+09   \n",
       "2015-12-03  2080.709961  2085.000000  2042.349976  2049.620117  4.306490e+09   \n",
       "2015-12-04  2051.239990  2093.840088  2051.239990  2091.689941  4.214910e+09   \n",
       "2015-12-07  2090.419922  2090.419922  2066.780029  2077.070068  4.043820e+09   \n",
       "\n",
       "              Adj Close  \n",
       "Date                     \n",
       "2010-01-04  1132.989990  \n",
       "2010-01-05  1136.520020  \n",
       "2010-01-06  1137.140015  \n",
       "2010-01-07  1141.689941  \n",
       "2010-01-08  1144.979980  \n",
       "...                 ...  \n",
       "2015-12-01  2102.629883  \n",
       "2015-12-02  2079.510010  \n",
       "2015-12-03  2049.620117  \n",
       "2015-12-04  2091.689941  \n",
       "2015-12-07  2077.070068  \n",
       "\n",
       "[1493 rows x 6 columns]"
      ]
     },
     "execution_count": 84,
     "metadata": {},
     "output_type": "execute_result"
    }
   ],
   "source": [
    "# Set Date as index\n",
    "SPY_data.set_index('Date',inplace=True)\n",
    " \n",
    "# Reverse the order of the dataframe in order to have oldest values at top\n",
    "SPY_data.sort_values('Date',ascending=True)"
   ]
  },
  {
   "cell_type": "markdown",
   "metadata": {},
   "source": [
    "### Generate features of the model\n",
    "This might be the most important part of the study. It is to choose from which feature the dataset will be constructed. This part mainly requires previous knowledge of the field in which you are working.\n",
    "\n",
    "Generate the following features of the model:\n",
    "\n",
    "* **High-Low_pct**: High – Low percent change\n",
    "* **ewm_5**: 5 periods Exponential Moving Average\n",
    "* **price_std_5**: Standard deviation of the price over the past 5 days\n",
    "* **volume Change**: Daily volume percent change\n",
    "* **volume_avg_5**: Average volume for the past 5 days\n",
    "* **volume_Std**: Standard deviation of the volume over the past 5 days\n",
    "\n",
    "Function that can be used: `pct_change`, `rolling`, `ewm`, `shift`. Check Pandas documentation."
   ]
  },
  {
   "cell_type": "code",
   "execution_count": 85,
   "metadata": {},
   "outputs": [
    {
     "data": {
      "text/html": [
       "<div>\n",
       "<style scoped>\n",
       "    .dataframe tbody tr th:only-of-type {\n",
       "        vertical-align: middle;\n",
       "    }\n",
       "\n",
       "    .dataframe tbody tr th {\n",
       "        vertical-align: top;\n",
       "    }\n",
       "\n",
       "    .dataframe thead th {\n",
       "        text-align: right;\n",
       "    }\n",
       "</style>\n",
       "<table border=\"1\" class=\"dataframe\">\n",
       "  <thead>\n",
       "    <tr style=\"text-align: right;\">\n",
       "      <th></th>\n",
       "      <th>Open</th>\n",
       "      <th>High</th>\n",
       "      <th>Low</th>\n",
       "      <th>Close</th>\n",
       "      <th>Volume</th>\n",
       "      <th>Adj Close</th>\n",
       "      <th>High-Low_pct</th>\n",
       "      <th>ewm_5</th>\n",
       "      <th>price_std_5</th>\n",
       "      <th>volume Change</th>\n",
       "      <th>volume_avg_5</th>\n",
       "      <th>volume Close</th>\n",
       "    </tr>\n",
       "    <tr>\n",
       "      <th>Date</th>\n",
       "      <th></th>\n",
       "      <th></th>\n",
       "      <th></th>\n",
       "      <th></th>\n",
       "      <th></th>\n",
       "      <th></th>\n",
       "      <th></th>\n",
       "      <th></th>\n",
       "      <th></th>\n",
       "      <th></th>\n",
       "      <th></th>\n",
       "      <th></th>\n",
       "    </tr>\n",
       "  </thead>\n",
       "  <tbody>\n",
       "    <tr>\n",
       "      <th>2015-12-07</th>\n",
       "      <td>2090.419922</td>\n",
       "      <td>2090.419922</td>\n",
       "      <td>2066.780029</td>\n",
       "      <td>2077.070068</td>\n",
       "      <td>4.043820e+09</td>\n",
       "      <td>2077.070068</td>\n",
       "      <td>NaN</td>\n",
       "      <td>NaN</td>\n",
       "      <td>NaN</td>\n",
       "      <td>NaN</td>\n",
       "      <td>NaN</td>\n",
       "      <td>NaN</td>\n",
       "    </tr>\n",
       "    <tr>\n",
       "      <th>2015-12-04</th>\n",
       "      <td>2051.239990</td>\n",
       "      <td>2093.840088</td>\n",
       "      <td>2051.239990</td>\n",
       "      <td>2091.689941</td>\n",
       "      <td>4.214910e+09</td>\n",
       "      <td>2091.689941</td>\n",
       "      <td>0.802043</td>\n",
       "      <td>2077.070068</td>\n",
       "      <td>NaN</td>\n",
       "      <td>0.042309</td>\n",
       "      <td>NaN</td>\n",
       "      <td>NaN</td>\n",
       "    </tr>\n",
       "    <tr>\n",
       "      <th>2015-12-03</th>\n",
       "      <td>2080.709961</td>\n",
       "      <td>2085.000000</td>\n",
       "      <td>2042.349976</td>\n",
       "      <td>2049.620117</td>\n",
       "      <td>4.306490e+09</td>\n",
       "      <td>2049.620117</td>\n",
       "      <td>0.001172</td>\n",
       "      <td>2085.841992</td>\n",
       "      <td>NaN</td>\n",
       "      <td>0.021728</td>\n",
       "      <td>NaN</td>\n",
       "      <td>NaN</td>\n",
       "    </tr>\n",
       "    <tr>\n",
       "      <th>2015-12-02</th>\n",
       "      <td>2101.709961</td>\n",
       "      <td>2104.270020</td>\n",
       "      <td>2077.110107</td>\n",
       "      <td>2079.510010</td>\n",
       "      <td>3.950640e+09</td>\n",
       "      <td>2079.510010</td>\n",
       "      <td>-0.363191</td>\n",
       "      <td>2068.684262</td>\n",
       "      <td>NaN</td>\n",
       "      <td>-0.082631</td>\n",
       "      <td>NaN</td>\n",
       "      <td>NaN</td>\n",
       "    </tr>\n",
       "    <tr>\n",
       "      <th>2015-12-01</th>\n",
       "      <td>2082.929932</td>\n",
       "      <td>2103.370117</td>\n",
       "      <td>2082.929932</td>\n",
       "      <td>2102.629883</td>\n",
       "      <td>3.712120e+09</td>\n",
       "      <td>2102.629883</td>\n",
       "      <td>-0.247413</td>\n",
       "      <td>2073.181111</td>\n",
       "      <td>NaN</td>\n",
       "      <td>-0.060375</td>\n",
       "      <td>NaN</td>\n",
       "      <td>NaN</td>\n",
       "    </tr>\n",
       "    <tr>\n",
       "      <th>2015-11-30</th>\n",
       "      <td>2090.949951</td>\n",
       "      <td>2093.810059</td>\n",
       "      <td>2080.409912</td>\n",
       "      <td>2080.409912</td>\n",
       "      <td>4.245030e+09</td>\n",
       "      <td>2080.409912</td>\n",
       "      <td>-0.344421</td>\n",
       "      <td>2084.486090</td>\n",
       "      <td>19.877589</td>\n",
       "      <td>0.143559</td>\n",
       "      <td>4.045596e+09</td>\n",
       "      <td>2.328943e+08</td>\n",
       "    </tr>\n",
       "    <tr>\n",
       "      <th>2015-11-27</th>\n",
       "      <td>2088.820068</td>\n",
       "      <td>2093.290039</td>\n",
       "      <td>2084.129883</td>\n",
       "      <td>2090.110107</td>\n",
       "      <td>1.466840e+09</td>\n",
       "      <td>2090.110107</td>\n",
       "      <td>-0.316414</td>\n",
       "      <td>2082.996599</td>\n",
       "      <td>19.806136</td>\n",
       "      <td>-0.654457</td>\n",
       "      <td>4.085838e+09</td>\n",
       "      <td>2.493154e+08</td>\n",
       "    </tr>\n",
       "    <tr>\n",
       "      <th>2015-11-25</th>\n",
       "      <td>2089.300049</td>\n",
       "      <td>2093.000000</td>\n",
       "      <td>2086.300049</td>\n",
       "      <td>2088.870117</td>\n",
       "      <td>2.852940e+09</td>\n",
       "      <td>2088.870117</td>\n",
       "      <td>-0.268577</td>\n",
       "      <td>2085.515175</td>\n",
       "      <td>19.599946</td>\n",
       "      <td>0.944957</td>\n",
       "      <td>3.536224e+09</td>\n",
       "      <td>1.181180e+09</td>\n",
       "    </tr>\n",
       "    <tr>\n",
       "      <th>2015-11-24</th>\n",
       "      <td>2084.419922</td>\n",
       "      <td>2094.120117</td>\n",
       "      <td>2070.290039</td>\n",
       "      <td>2089.139893</td>\n",
       "      <td>3.884930e+09</td>\n",
       "      <td>2089.139893</td>\n",
       "      <td>2.556754</td>\n",
       "      <td>2086.678895</td>\n",
       "      <td>9.333599</td>\n",
       "      <td>0.361729</td>\n",
       "      <td>3.245514e+09</td>\n",
       "      <td>1.121578e+09</td>\n",
       "    </tr>\n",
       "    <tr>\n",
       "      <th>2015-11-23</th>\n",
       "      <td>2089.409912</td>\n",
       "      <td>2095.610107</td>\n",
       "      <td>2081.389893</td>\n",
       "      <td>2086.590088</td>\n",
       "      <td>3.587980e+09</td>\n",
       "      <td>2086.590088</td>\n",
       "      <td>-0.403266</td>\n",
       "      <td>2087.521137</td>\n",
       "      <td>7.956808</td>\n",
       "      <td>-0.076436</td>\n",
       "      <td>3.232372e+09</td>\n",
       "      <td>1.111591e+09</td>\n",
       "    </tr>\n",
       "  </tbody>\n",
       "</table>\n",
       "</div>"
      ],
      "text/plain": [
       "                   Open         High          Low        Close        Volume  \\\n",
       "Date                                                                           \n",
       "2015-12-07  2090.419922  2090.419922  2066.780029  2077.070068  4.043820e+09   \n",
       "2015-12-04  2051.239990  2093.840088  2051.239990  2091.689941  4.214910e+09   \n",
       "2015-12-03  2080.709961  2085.000000  2042.349976  2049.620117  4.306490e+09   \n",
       "2015-12-02  2101.709961  2104.270020  2077.110107  2079.510010  3.950640e+09   \n",
       "2015-12-01  2082.929932  2103.370117  2082.929932  2102.629883  3.712120e+09   \n",
       "2015-11-30  2090.949951  2093.810059  2080.409912  2080.409912  4.245030e+09   \n",
       "2015-11-27  2088.820068  2093.290039  2084.129883  2090.110107  1.466840e+09   \n",
       "2015-11-25  2089.300049  2093.000000  2086.300049  2088.870117  2.852940e+09   \n",
       "2015-11-24  2084.419922  2094.120117  2070.290039  2089.139893  3.884930e+09   \n",
       "2015-11-23  2089.409912  2095.610107  2081.389893  2086.590088  3.587980e+09   \n",
       "\n",
       "              Adj Close  High-Low_pct        ewm_5  price_std_5  \\\n",
       "Date                                                              \n",
       "2015-12-07  2077.070068           NaN          NaN          NaN   \n",
       "2015-12-04  2091.689941      0.802043  2077.070068          NaN   \n",
       "2015-12-03  2049.620117      0.001172  2085.841992          NaN   \n",
       "2015-12-02  2079.510010     -0.363191  2068.684262          NaN   \n",
       "2015-12-01  2102.629883     -0.247413  2073.181111          NaN   \n",
       "2015-11-30  2080.409912     -0.344421  2084.486090    19.877589   \n",
       "2015-11-27  2090.110107     -0.316414  2082.996599    19.806136   \n",
       "2015-11-25  2088.870117     -0.268577  2085.515175    19.599946   \n",
       "2015-11-24  2089.139893      2.556754  2086.678895     9.333599   \n",
       "2015-11-23  2086.590088     -0.403266  2087.521137     7.956808   \n",
       "\n",
       "            volume Change  volume_avg_5  volume Close  \n",
       "Date                                                   \n",
       "2015-12-07            NaN           NaN           NaN  \n",
       "2015-12-04       0.042309           NaN           NaN  \n",
       "2015-12-03       0.021728           NaN           NaN  \n",
       "2015-12-02      -0.082631           NaN           NaN  \n",
       "2015-12-01      -0.060375           NaN           NaN  \n",
       "2015-11-30       0.143559  4.045596e+09  2.328943e+08  \n",
       "2015-11-27      -0.654457  4.085838e+09  2.493154e+08  \n",
       "2015-11-25       0.944957  3.536224e+09  1.181180e+09  \n",
       "2015-11-24       0.361729  3.245514e+09  1.121578e+09  \n",
       "2015-11-23      -0.076436  3.232372e+09  1.111591e+09  "
      ]
     },
     "execution_count": 85,
     "metadata": {},
     "output_type": "execute_result"
    }
   ],
   "source": [
    "SPY_data['High-Low_pct'] = (SPY_data['High'] - SPY_data['Low']).pct_change()\n",
    "SPY_data['ewm_5'] = SPY_data[\"Close\"].ewm(span=5).mean().shift(periods=1)\n",
    "SPY_data['price_std_5'] = SPY_data[\"Close\"].rolling(center=False,window= 5).std().shift(periods=1)\n",
    " \n",
    "SPY_data['volume Change'] = SPY_data['Volume'].pct_change()\n",
    "SPY_data['volume_avg_5'] = SPY_data[\"Volume\"].rolling(center=False,window=5).mean().shift(periods=1)\n",
    "SPY_data['volume Close'] = SPY_data[\"Volume\"].rolling(center=False,window=5).std().shift(periods=1)\n",
    "SPY_data.head(10)"
   ]
  },
  {
   "cell_type": "markdown",
   "metadata": {},
   "source": [
    "### Correlation study\n",
    "\n",
    "The next objective is to find out which variables correlates best. A correlational study is a type of research design where one seeks to understand what kind of relationships naturally occurring variables have with one another.\n",
    "\n",
    "The following code allows to see a graph that links the previous variables together with the closing value."
   ]
  },
  {
   "cell_type": "code",
   "execution_count": 86,
   "metadata": {},
   "outputs": [
    {
     "name": "stderr",
     "output_type": "stream",
     "text": [
      "'c' argument looks like a single numeric RGB or RGBA sequence, which should be avoided as value-mapping will have precedence in case its length matches with 'x' & 'y'.  Please use a 2-D array with a single row if you really want to specify the same RGB or RGBA value for all points.\n",
      "'c' argument looks like a single numeric RGB or RGBA sequence, which should be avoided as value-mapping will have precedence in case its length matches with 'x' & 'y'.  Please use a 2-D array with a single row if you really want to specify the same RGB or RGBA value for all points.\n",
      "'c' argument looks like a single numeric RGB or RGBA sequence, which should be avoided as value-mapping will have precedence in case its length matches with 'x' & 'y'.  Please use a 2-D array with a single row if you really want to specify the same RGB or RGBA value for all points.\n",
      "'c' argument looks like a single numeric RGB or RGBA sequence, which should be avoided as value-mapping will have precedence in case its length matches with 'x' & 'y'.  Please use a 2-D array with a single row if you really want to specify the same RGB or RGBA value for all points.\n",
      "'c' argument looks like a single numeric RGB or RGBA sequence, which should be avoided as value-mapping will have precedence in case its length matches with 'x' & 'y'.  Please use a 2-D array with a single row if you really want to specify the same RGB or RGBA value for all points.\n",
      "'c' argument looks like a single numeric RGB or RGBA sequence, which should be avoided as value-mapping will have precedence in case its length matches with 'x' & 'y'.  Please use a 2-D array with a single row if you really want to specify the same RGB or RGBA value for all points.\n"
     ]
    },
    {
     "data": {
      "image/png": "[encoded data removed]",
      "text/plain": [
       "<Figure size 576x432 with 6 Axes>"
      ]
     },
     "metadata": {
      "needs_background": "light"
     },
     "output_type": "display_data"
    }
   ],
   "source": [
    "jet= plt.get_cmap('jet')\n",
    "colors = iter(jet(np.linspace(0,1,10)))\n",
    " \n",
    "def correlation_plot(df,variables, n_rows, n_cols):\n",
    "    fig = plt.figure(figsize=(8,6))\n",
    "    #fig = plt.figure(figsize=(14,9))\n",
    "    for i, var in enumerate(variables):\n",
    "        ax = fig.add_subplot(n_rows,n_cols,i+1)\n",
    "        asset = df.loc[:,var]\n",
    "        ax.scatter(df[\"Adj Close\"], asset, c = next(colors))\n",
    "        ax.set_xlabel(\"Adj Close\")\n",
    "        ax.set_ylabel(\"{}\".format(var))\n",
    "        ax.set_title(var +\" vs price\")\n",
    "    fig.tight_layout() \n",
    "    plt.show()\n",
    "        \n",
    "# Take the name of the last 6 columns of the SPY_data which are the model features\n",
    "variables = SPY_data.columns[-6:]  \n",
    " \n",
    "correlation_plot(SPY_data,variables,3,3)"
   ]
  },
  {
   "cell_type": "markdown",
   "metadata": {},
   "source": [
    "Compute the correlation matrix between the features and the target variable. A correlation matrix is used to evaluate the dependency between several variables at the same time. The result is a table containing the correlation coefficients between each variable and the others.\n",
    "\n",
    "The three most common methods are:\n",
    "- *Pearson* : standard correlation coefficient\n",
    "- *Kendall* : Kendall Tau correlation coefficient\n",
    "- *Spearman* : Spearman rank correlation\n",
    "\n",
    "Pandas allows us to compute the correlation matrix using method `.corr(method='pearson', min_periods=1)`, which has the following options:\n",
    "- *method* that can be one element of that list {‘pearson’, ‘kendall’, ‘spearman’} or a callable, a function that you would have designed yourself. By default, the pearson method is used.\n",
    "- *min_periods* Minimum number of observations required per pair of columns to have a valid result. Currently only available for Pearson and Spearman correlation.\n",
    "\n",
    "From that table we should pick the 'Adj Close' column and look for only the 6 variables that we have chosen. You might use the `variables` list that we have created in last python block."
   ]
  },
  {
   "cell_type": "code",
   "execution_count": 107,
   "metadata": {},
   "outputs": [
    {
     "data": {
      "text/plain": [
       "High-Low_pct    -0.009709\n",
       "ewm_5            0.998511\n",
       "price_std_5      0.071823\n",
       "volume Change   -0.004785\n",
       "volume_avg_5    -0.485734\n",
       "volume Close    -0.241898\n",
       "Name: Adj Close, dtype: float64"
      ]
     },
     "execution_count": 107,
     "metadata": {},
     "output_type": "execute_result"
    }
   ],
   "source": [
    "SPY_data.corr(method='kendall')['Adj Close'].loc[variables]"
   ]
  },
  {
   "cell_type": "code",
   "execution_count": 106,
   "metadata": {},
   "outputs": [
    {
     "data": {
      "text/plain": [
       "High-Low_pct    -0.009709\n",
       "ewm_5            0.998511\n",
       "price_std_5      0.071823\n",
       "volume Change   -0.004785\n",
       "volume_avg_5    -0.485734\n",
       "volume Close    -0.241898\n",
       "Name: Adj Close, dtype: float64"
      ]
     },
     "execution_count": 106,
     "metadata": {},
     "output_type": "execute_result"
    }
   ],
   "source": [
    "SPY_data.corr(method='pearson')['Adj Close'].loc[variables]"
   ]
  },
  {
   "cell_type": "markdown",
   "metadata": {},
   "source": [
    "For a more complete view of all relationships between parameter you can use `pairplot`, which is a seaborn function. `pairplot` plots pairwise relationships in a dataset. It is to call carefully because using pairplot might require a lot of computational ressources.\n",
    "\n",
    "By default, this function will create a grid of graphs such that each numeric variable in data will by shared across the y-axes across a single row and the x-axes across a single column. The diagonal plots are treated differently: a univariate distribution plot is drawn to show the marginal distribution of the data in each column.\n",
    "\n",
    "There are options that allow you to select particular columns, rows or specific features for classification, which can be seen on: https://seaborn.pydata.org/generated/seaborn.pairplot.html\n",
    "\n",
    "Here, we will use the default way: `pairplot(SPY_data)`"
   ]
  },
  {
   "cell_type": "code",
   "execution_count": 108,
   "metadata": {},
   "outputs": [],
   "source": [
    "import seaborn as sns\n",
    "\n",
    "sns.set()\n",
    "sns.pairplot(SPY_data); #That operation might take a significative time so use it only once to see what happens"
   ]
  },
  {
   "cell_type": "markdown",
   "metadata": {},
   "source": [
    "As we can observe, either the scatterplot or the correlation matrix reflects that the Exponential Moving Average for 5 periods is highly correlated with the Adj Close variable. Secondly is possible to observe a negative correlation between Adj Close and the volume average for 5 days and with the volume to Close ratio.\n",
    "\n",
    "### Train the Dataset and Fit the model\n",
    "\n",
    "Due to the feature calculation, the SPY_data contains some *NaN* values that correspond to the first’s rows of the exponential and moving average columns. We will see how many Nan values there are in each column and then remove these rows.\n",
    "\n",
    "Check if there are null variable inside the dataset and drop them if there are some.\n",
    "\n",
    "Generate a training set and a testing set."
   ]
  },
  {
   "cell_type": "code",
   "execution_count": 94,
   "metadata": {},
   "outputs": [
    {
     "name": "stdout",
     "output_type": "stream",
     "text": [
      "High-Low_pct     1\n",
      "ewm_5            1\n",
      "price_std_5      5\n",
      "volume Change    1\n",
      "volume_avg_5     5\n",
      "volume Close     5\n",
      "dtype: int64\n"
     ]
    }
   ],
   "source": [
    "print(SPY_data.isnull().sum().loc[variables]) # print NaN values\n",
    "\n",
    "# To train the model is necessary to drop any missing value in the dataset.\n",
    "\n",
    "SPY_data = SPY_data.dropna(axis=0)\n",
    "\n",
    "# Generate the train and test sets\n",
    "\n",
    "train = SPY_data[SPY_data.index < datetime(year=2015, month=1, day=1)]\n",
    "\n",
    "test = SPY_data[SPY_data.index >= datetime(year=2015, month=1, day=1)]\n",
    "dates = test.index"
   ]
  },
  {
   "cell_type": "code",
   "execution_count": 95,
   "metadata": {},
   "outputs": [
    {
     "data": {
      "text/plain": [
       "LinearRegression(copy_X=True, fit_intercept=True, n_jobs=None, normalize=False)"
      ]
     },
     "execution_count": 95,
     "metadata": {},
     "output_type": "execute_result"
    }
   ],
   "source": [
    "lr = LinearRegression()\n",
    " \n",
    "X_train = train[[\"High-Low_pct\",\"ewm_5\",\"price_std_5\",\"volume_avg_5\",\"volume Change\",\"volume Close\"]]\n",
    " \n",
    "Y_train = train[\"Adj Close\"]\n",
    " \n",
    "lr.fit(X_train,Y_train)"
   ]
  },
  {
   "cell_type": "markdown",
   "metadata": {},
   "source": [
    "Create the test features dataset (X_test) which will be used to make the predictions."
   ]
  },
  {
   "cell_type": "code",
   "execution_count": 96,
   "metadata": {},
   "outputs": [],
   "source": [
    "# Create the test features dataset (X_test) which will be used to make the predictions.\n",
    "\n",
    "X_test = test[[\"High-Low_pct\",\"ewm_5\",\"price_std_5\",\"volume_avg_5\",\"volume Change\",\"volume Close\"]].values \n",
    "\n",
    "# The labels of the model\n",
    "\n",
    "Y_test = test[\"Adj Close\"].values "
   ]
  },
  {
   "cell_type": "markdown",
   "metadata": {},
   "source": [
    "Predict the Adj Close values using  the X_test dataframe and Compute the Mean Squared Error between the predictions and the real observations."
   ]
  },
  {
   "cell_type": "code",
   "execution_count": 101,
   "metadata": {},
   "outputs": [
    {
     "name": "stdout",
     "output_type": "stream",
     "text": [
      "Mean absolute error: 17.38\n",
      "sqrt(Mean squared error): 23.04\n",
      "Coefficient of determination: 0.84\n"
     ]
    }
   ],
   "source": [
    "close_predictions = lr.predict(X_test)   \n",
    "\n",
    "mae = sum(abs(close_predictions - Y_test)) / test.shape[0]\n",
    "\n",
    "print('Mean absolute error: ' + str(round(mae,2)))\n",
    "\n",
    "# The mean squared error\n",
    "print('sqrt(Mean squared error): %.2f'\n",
    "      % np.sqrt(mean_squared_error(Y_test, close_predictions)))\n",
    "\n",
    "# The coefficient of determination: 1 is perfect prediction\n",
    "print('Coefficient of determination: %.2f'\n",
    "      % r2_score(Y_test, close_predictions))"
   ]
  },
  {
   "cell_type": "markdown",
   "metadata": {},
   "source": [
    "We have that the Mean Absolute Error of the model is 18.09. This metric is more intuitive than others such as the Mean Squared Error, in terms of how close the predictions were to the real price.\n",
    "\n",
    "Finally we will plot the error term for the last 25 days of the test dataset. This allows observing how long is the error term in each of the days, and asses the performance of the model by date. "
   ]
  },
  {
   "cell_type": "code",
   "execution_count": 103,
   "metadata": {},
   "outputs": [
    {
     "data": {
      "text/html": [
       "<div>\n",
       "<style scoped>\n",
       "    .dataframe tbody tr th:only-of-type {\n",
       "        vertical-align: middle;\n",
       "    }\n",
       "\n",
       "    .dataframe tbody tr th {\n",
       "        vertical-align: top;\n",
       "    }\n",
       "\n",
       "    .dataframe thead th {\n",
       "        text-align: right;\n",
       "    }\n",
       "</style>\n",
       "<table border=\"1\" class=\"dataframe\">\n",
       "  <thead>\n",
       "    <tr style=\"text-align: right;\">\n",
       "      <th></th>\n",
       "      <th>Date</th>\n",
       "      <th>Actual</th>\n",
       "      <th>Predicted</th>\n",
       "    </tr>\n",
       "  </thead>\n",
       "  <tbody>\n",
       "    <tr>\n",
       "      <th>205</th>\n",
       "      <td>2015-02-06</td>\n",
       "      <td>2055.469971</td>\n",
       "      <td>2070.244222</td>\n",
       "    </tr>\n",
       "    <tr>\n",
       "      <th>206</th>\n",
       "      <td>2015-02-05</td>\n",
       "      <td>2062.520020</td>\n",
       "      <td>2065.851129</td>\n",
       "    </tr>\n",
       "    <tr>\n",
       "      <th>207</th>\n",
       "      <td>2015-02-04</td>\n",
       "      <td>2041.510010</td>\n",
       "      <td>2062.043858</td>\n",
       "    </tr>\n",
       "    <tr>\n",
       "      <th>208</th>\n",
       "      <td>2015-02-03</td>\n",
       "      <td>2050.030029</td>\n",
       "      <td>2054.431129</td>\n",
       "    </tr>\n",
       "    <tr>\n",
       "      <th>209</th>\n",
       "      <td>2015-02-02</td>\n",
       "      <td>2020.849976</td>\n",
       "      <td>2051.891452</td>\n",
       "    </tr>\n",
       "    <tr>\n",
       "      <th>...</th>\n",
       "      <td>...</td>\n",
       "      <td>...</td>\n",
       "      <td>...</td>\n",
       "    </tr>\n",
       "    <tr>\n",
       "      <th>225</th>\n",
       "      <td>2015-01-08</td>\n",
       "      <td>2062.139893</td>\n",
       "      <td>2031.302986</td>\n",
       "    </tr>\n",
       "    <tr>\n",
       "      <th>226</th>\n",
       "      <td>2015-01-07</td>\n",
       "      <td>2025.900024</td>\n",
       "      <td>2043.449640</td>\n",
       "    </tr>\n",
       "    <tr>\n",
       "      <th>227</th>\n",
       "      <td>2015-01-06</td>\n",
       "      <td>2002.609985</td>\n",
       "      <td>2035.116830</td>\n",
       "    </tr>\n",
       "    <tr>\n",
       "      <th>228</th>\n",
       "      <td>2015-01-05</td>\n",
       "      <td>2020.579956</td>\n",
       "      <td>2028.340347</td>\n",
       "    </tr>\n",
       "    <tr>\n",
       "      <th>229</th>\n",
       "      <td>2015-01-02</td>\n",
       "      <td>2058.199951</td>\n",
       "      <td>2028.077665</td>\n",
       "    </tr>\n",
       "  </tbody>\n",
       "</table>\n",
       "<p>25 rows × 3 columns</p>\n",
       "</div>"
      ],
      "text/plain": [
       "          Date       Actual    Predicted\n",
       "205 2015-02-06  2055.469971  2070.244222\n",
       "206 2015-02-05  2062.520020  2065.851129\n",
       "207 2015-02-04  2041.510010  2062.043858\n",
       "208 2015-02-03  2050.030029  2054.431129\n",
       "209 2015-02-02  2020.849976  2051.891452\n",
       "..         ...          ...          ...\n",
       "225 2015-01-08  2062.139893  2031.302986\n",
       "226 2015-01-07  2025.900024  2043.449640\n",
       "227 2015-01-06  2002.609985  2035.116830\n",
       "228 2015-01-05  2020.579956  2028.340347\n",
       "229 2015-01-02  2058.199951  2028.077665\n",
       "\n",
       "[25 rows x 3 columns]"
      ]
     },
     "execution_count": 103,
     "metadata": {},
     "output_type": "execute_result"
    }
   ],
   "source": [
    "# Create a dataframe that output the Date, the Actual and the predicted values\n",
    "df = pd.DataFrame({'Date':dates,'Actual': Y_test, 'Predicted': close_predictions})\n",
    "df1 = df.tail(25)\n",
    "df1"
   ]
  },
  {
   "cell_type": "code",
   "execution_count": 104,
   "metadata": {},
   "outputs": [
    {
     "name": "stderr",
     "output_type": "stream",
     "text": [
      "C:\\Users\\Nicolas\\anaconda3\\lib\\site-packages\\ipykernel_launcher.py:2: SettingWithCopyWarning: \n",
      "A value is trying to be set on a copy of a slice from a DataFrame.\n",
      "Try using .loc[row_indexer,col_indexer] = value instead\n",
      "\n",
      "See the caveats in the documentation: https://pandas.pydata.org/pandas-docs/stable/user_guide/indexing.html#returning-a-view-versus-a-copy\n",
      "  \n"
     ]
    },
    {
     "data": {
      "image/png": "[encoded data removed]",
      "text/plain": [
       "<Figure size 576x432 with 1 Axes>"
      ]
     },
     "metadata": {},
     "output_type": "display_data"
    }
   ],
   "source": [
    "# set the date with string format for plotting\n",
    "df1['Date'] = df1['Date'].dt.strftime('%Y-%m-%d')\n",
    " \n",
    "df1.set_index('Date',inplace=True)\n",
    " \n",
    "error = df1['Actual'] - df1['Predicted']\n",
    " \n",
    "# Plot the error term between the actual and predicted values for the last 25 days\n",
    " \n",
    "error.plot(kind='bar',figsize=(8,6))\n",
    "plt.grid(which='major', linestyle='-', linewidth='0.5', color='green')\n",
    "plt.grid(which='minor', linestyle=':', linewidth='0.5', color='black')\n",
    "plt.xticks(rotation=45)\n",
    "plt.show()"
   ]
  },
  {
   "cell_type": "code",
   "execution_count": null,
   "metadata": {},
   "outputs": [],
   "source": []
  }
 ],
 "metadata": {
  "kernelspec": {
   "display_name": "Python 3",
   "language": "python",
   "name": "python3"
  },
  "language_info": {
   "codemirror_mode": {
    "name": "ipython",
    "version": 3
   },
   "file_extension": ".py",
   "mimetype": "text/x-python",
   "name": "python",
   "nbconvert_exporter": "python",
   "pygments_lexer": "ipython3",
   "version": "3.7.6"
  }
 },
 "nbformat": 4,
 "nbformat_minor": 4
}
